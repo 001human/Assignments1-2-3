{
 "cells": [
  {
   "cell_type": "code",
   "execution_count": 3,
   "id": "d1a0695d",
   "metadata": {},
   "outputs": [
    {
     "name": "stdout",
     "output_type": "stream",
     "text": [
      "Data written to data.csv successfully.\n",
      "Data read from data.csv successfully.\n",
      "[['Employee', 'Department', 'Experience'], ['dev', 'Management', '10 Years'], ['Ved', 'Quant', '5 Years'], ['Gauri', 'Accounts', '7 Years'], ['Daksh', 'Development', '10 Year']]\n"
     ]
    },
    {
     "data": {
      "text/plain": [
       "[['Employee', 'Department', 'Experience'],\n",
       " ['dev', 'Management', '10 Years'],\n",
       " ['Ved', 'Quant', '5 Years'],\n",
       " ['Gauri', 'Accounts', '7 Years'],\n",
       " ['Daksh', 'Development', '10 Year']]"
      ]
     },
     "execution_count": 3,
     "metadata": {},
     "output_type": "execute_result"
    }
   ],
   "source": [
    "import csv\n",
    "\n",
    "# Create a new 2D array (e.g., employees and departments)\n",
    "data = [\n",
    "    [\"Employee\", \"Department\", \"Experience\"],\n",
    "    [\"dev\", \"Management\", \"10 Years\"],\n",
    "    [\"Ved\", \"Quant\", \"5 Years\"],\n",
    "    [\"Gauri\", \"Accounts\", \"7 Years\"],\n",
    "    [\"Daksh\", \"Development\", \"10 Year\"]\n",
    "]\n",
    "\n",
    "# Write to CSV file\n",
    "def write(filename, data):\n",
    "    with open(filename, 'w', newline='') as file:\n",
    "        writer = csv.writer(file)\n",
    "        writer.writerows(data)\n",
    "    print(f\"Data written to {filename} successfully.\")\n",
    "\n",
    "# Read from CSV file\n",
    "def read(filename):\n",
    "    with open(filename, 'r') as file:\n",
    "        reader = csv.reader(file)\n",
    "        data = list(reader)\n",
    "    print(f\"Data read from {filename} successfully.\")\n",
    "    return data\n",
    "\n",
    "# Usage\n",
    "filename = 'data.csv'\n",
    "write(filename, data)\n",
    "rd = read(filename)\n",
    "print(rd)\n",
    "[['Employee', 'Department', 'Experience'], ['dev', 'Management', '10 Years'], ['Ved', 'Quant', '5 Years'], ['Gauri', 'Accounts', '7 Years'], ['Daksh', 'Development', '10 Year']]"
   ]
  },
  {
   "cell_type": "code",
   "execution_count": null,
   "id": "e650206a",
   "metadata": {},
   "outputs": [],
   "source": []
  }
 ],
 "metadata": {
  "kernelspec": {
   "display_name": "Python 3",
   "language": "python",
   "name": "python3"
  },
  "language_info": {
   "codemirror_mode": {
    "name": "ipython",
    "version": 3
   },
   "file_extension": ".py",
   "mimetype": "text/x-python",
   "name": "python",
   "nbconvert_exporter": "python",
   "pygments_lexer": "ipython3",
   "version": "3.11.9"
  }
 },
 "nbformat": 4,
 "nbformat_minor": 5
}
